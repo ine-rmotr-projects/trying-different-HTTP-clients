{
 "cells": [
  {
   "cell_type": "markdown",
   "metadata": {},
   "source": [
    "![ine-divider](https://user-images.githubusercontent.com/7065401/92672068-398e8080-f2ee-11ea-82d6-ad53f7feb5c0.png)\n",
    "<hr>\n",
    "\n",
    "### HTTP using Python\n",
    "\n",
    "# Trying different HTTP clients\n",
    "\n",
    "In this exercise, you will need to construct a function that communicates with a locally running server.  This repeats the earlier exercise where you were asked to construct this interaction using the low level `telnetlib`.  In particular, you will connect to port 2552 on `localhost`, and to the resource path `/json`.  As the name suggests, this path will return JSON responses; however, your function should return a Python dictionary derived from that. \n",
    "\n",
    "A trick to this exercise is that the server path does not accept GET requests, only POST or PUT.\n",
    "\n",
    "You will write three solutions to this exercise.  All will behave the same, but one should use `http.server`, another `urllib.request`, and the final one `requests`.\n",
    "\n",
    "A correct implementation of the function will behave like this:\n",
    "\n",
    "```python\n",
    ">>> get_response_VERSION('David', 'Instructor')\n",
    "{'Server': '77851768', 'name': 'David', 'title': 'Instructor'}\n",
    "```\n",
    "\n",
    "![orange-divider](https://user-images.githubusercontent.com/7065401/92672455-187a5f80-f2ef-11ea-890c-40be9474f7b7.png)"
   ]
  },
  {
   "cell_type": "markdown",
   "metadata": {},
   "source": [
    "## Initial code"
   ]
  },
  {
   "cell_type": "code",
   "execution_count": null,
   "metadata": {},
   "outputs": [],
   "source": [
    "import http\n",
    "import urllib\n",
    "import requests\n",
    "import json\n",
    "from urllib.parse import urlencode\n",
    "\n",
    "from exercise_server import start\n",
    "start()"
   ]
  },
  {
   "cell_type": "code",
   "execution_count": null,
   "metadata": {},
   "outputs": [],
   "source": [
    "def get_response_http_client(name, title):\n",
    "    # http.server.somefunc(...)\n",
    "    path = '/json'\n",
    "    return {\"Server\": \"Test Server\"}\n",
    "\n",
    "    # your code goes here"
   ]
  },
  {
   "cell_type": "code",
   "execution_count": null,
   "metadata": {},
   "outputs": [],
   "source": [
    "def get_response_urllib(name, title):\n",
    "    # urllib.request.somefunc(...)\n",
    "    path = '/json'\n",
    "    return {\"Server\": \"Test Server\"}\n",
    "\n",
    "    # your code goes here"
   ]
  },
  {
   "cell_type": "code",
   "execution_count": null,
   "metadata": {},
   "outputs": [],
   "source": [
    "def get_response_requests(name, title):\n",
    "    # requests.somefunc(...)\n",
    "    path = '/json'\n",
    "    return {\"Server\": \"Test Server\"}\n",
    "\n",
    "    # your code goes here"
   ]
  },
  {
   "cell_type": "markdown",
   "metadata": {},
   "source": [
    "![orange-divider](https://user-images.githubusercontent.com/7065401/92672455-187a5f80-f2ef-11ea-890c-40be9474f7b7.png)\n",
    "## Test Cases\n",
    "\n",
    "Check your solution by running the following test cases:"
   ]
  },
  {
   "cell_type": "code",
   "execution_count": null,
   "metadata": {},
   "outputs": [],
   "source": [
    "from itertools import product\n",
    "\n",
    "answers = [\n",
    "    {'Server': '9b5cd93e', 'name': 'Alice', 'title': 'Doctor'},\n",
    "    {'Server': '19ca4792', 'name': 'Alice', 'title': 'Lawyer'},\n",
    "    {'Server': '02ee2159', 'name': 'Alice', 'title': 'Baker'},\n",
    "    {'Server': 'c008bfa7', 'name': 'Bob', 'title': 'Doctor'},\n",
    "    {'Server': 'bc249b9f', 'name': 'Bob', 'title': 'Lawyer'},\n",
    "    {'Server': '6ce5faf4', 'name': 'Bob', 'title': 'Baker'},\n",
    "    {'Server': 'd9a5babe', 'name': 'Charlie', 'title': 'Doctor'},\n",
    "    {'Server': '709d2d4d', 'name': 'Charlie', 'title': 'Lawyer'},\n",
    "    {'Server': 'e6a5106b', 'name': 'Charlie', 'title': 'Baker'},\n",
    "]"
   ]
  },
  {
   "cell_type": "code",
   "execution_count": null,
   "metadata": {},
   "outputs": [],
   "source": [
    "def test_responses_http_client():\n",
    "    names = ['Alice', 'Bob', 'Charlie']\n",
    "    titles = ['Doctor', 'Lawyer', 'Baker']\n",
    "    for i, (name, title) in enumerate(product(names, titles)):\n",
    "        maybe = get_response_http_client(name, title)\n",
    "        correct = answers[i]\n",
    "        assert maybe == correct, f'{maybe} / {correct}'\n",
    "    print(\"Your solution is ok!\")\n",
    "\n",
    "    \n",
    "test_responses_http_client()"
   ]
  },
  {
   "cell_type": "code",
   "execution_count": null,
   "metadata": {},
   "outputs": [],
   "source": [
    "def test_responses_urllib():\n",
    "    names = ['Alice', 'Bob', 'Charlie']\n",
    "    titles = ['Doctor', 'Lawyer', 'Baker']\n",
    "    for i, (name, title) in enumerate(product(names, titles)):\n",
    "        maybe = get_response_urllib(name, title)\n",
    "        correct = answers[i]\n",
    "        assert maybe == correct, f'{maybe} / {correct}'\n",
    "    print(\"Your solution is ok!\")\n",
    "\n",
    "test_responses_urllib()"
   ]
  },
  {
   "cell_type": "code",
   "execution_count": null,
   "metadata": {},
   "outputs": [],
   "source": [
    "def test_responses_requests():\n",
    "    names = ['Alice', 'Bob', 'Charlie']\n",
    "    titles = ['Doctor', 'Lawyer', 'Baker']\n",
    "    for i, (name, title) in enumerate(product(names, titles)):\n",
    "        maybe = get_response_requests(name, title)\n",
    "        correct = answers[i]\n",
    "        assert maybe == correct, f'{maybe} / {correct}'\n",
    "    print(\"Your solution is ok!\")\n",
    "    \n",
    "test_responses_requests()"
   ]
  },
  {
   "cell_type": "markdown",
   "metadata": {},
   "source": [
    "![orange-divider](https://user-images.githubusercontent.com/7065401/92672455-187a5f80-f2ef-11ea-890c-40be9474f7b7.png)\n"
   ]
  }
 ],
 "metadata": {
  "kernelspec": {
   "display_name": "Python 3",
   "language": "python",
   "name": "python3"
  },
  "language_info": {
   "codemirror_mode": {
    "name": "ipython",
    "version": 3
   },
   "file_extension": ".py",
   "mimetype": "text/x-python",
   "name": "python",
   "nbconvert_exporter": "python",
   "pygments_lexer": "ipython3",
   "version": "3.8.6"
  }
 },
 "nbformat": 4,
 "nbformat_minor": 5
}
