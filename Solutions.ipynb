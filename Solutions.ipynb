{
 "cells": [
  {
   "cell_type": "markdown",
   "metadata": {},
   "source": [
    "![ine-divider](https://user-images.githubusercontent.com/7065401/92672068-398e8080-f2ee-11ea-82d6-ad53f7feb5c0.png)\n",
    "<hr>\n",
    "\n",
    "### HTTP using Python\n",
    "\n",
    "# Trying different HTTP clients\n",
    "\n",
    "In this exercise, you will need to construct a function that communicates with a locally running server.  This repeats the earlier exercise where you were asked to construct this interaction using the low level `telnetlib`.  In particular, you will connect to port 2552 on `localhost`, and to the resource path `/json`.  As the name suggests, this path will return JSON responses; however, your function should return a Python dictionary derived from that. \n",
    "\n",
    "A trick to this exercise is that the server path does not accept GET requests, only POST or PUT.\n",
    "\n",
    "You will write three solutions to this exercise.  All will behave the same, but one should use `http.server`, another `urllib.request`, and the final one `requests`.\n",
    "\n",
    "A correct implementation of the function will behave like this:\n",
    "\n",
    "```python\n",
    ">>> get_response_VERSION('David', 'Instructor')\n",
    "{'Server': '77851768', 'name': 'David', 'title': 'Instructor'}\n",
    "```\n",
    "\n",
    "![orange-divider](https://user-images.githubusercontent.com/7065401/92672455-187a5f80-f2ef-11ea-890c-40be9474f7b7.png)"
   ]
  },
  {
   "cell_type": "markdown",
   "metadata": {},
   "source": [
    "## Initial code"
   ]
  },
  {
   "cell_type": "code",
   "execution_count": 1,
   "metadata": {},
   "outputs": [
    {
     "name": "stdout",
     "output_type": "stream",
     "text": [
      " * Serving Flask app \"exercise_server\" (lazy loading)\n",
      " * Environment: production\n",
      "\u001b[31m   WARNING: This is a development server. Do not use it in a production deployment.\u001b[0m\n",
      "\u001b[2m   Use a production WSGI server instead.\u001b[0m\n",
      " * Debug mode: off\n"
     ]
    },
    {
     "name": "stderr",
     "output_type": "stream",
     "text": [
      " * Running on http://0.0.0.0:2552/ (Press CTRL+C to quit)\n"
     ]
    }
   ],
   "source": [
    "import http\n",
    "import urllib\n",
    "import requests\n",
    "import json\n",
    "from urllib.parse import urlencode\n",
    "\n",
    "from exercise_server import start\n",
    "start()"
   ]
  },
  {
   "cell_type": "code",
   "execution_count": 2,
   "metadata": {},
   "outputs": [],
   "source": [
    "def get_response_http_client(name, title):\n",
    "    # http.server.somefunc(...)\n",
    "    path = '/json'\n",
    "    return {\"Server\": \"Test Server\"}\n",
    "\n",
    "    # your code goes here"
   ]
  },
  {
   "cell_type": "code",
   "execution_count": 3,
   "metadata": {},
   "outputs": [],
   "source": [
    "def get_response_urllib(name, title):\n",
    "    # urllib.request.somefunc(...)\n",
    "    path = '/json'\n",
    "    return {\"Server\": \"Test Server\"}\n",
    "\n",
    "    # your code goes here"
   ]
  },
  {
   "cell_type": "code",
   "execution_count": 4,
   "metadata": {},
   "outputs": [],
   "source": [
    "def get_response_requests(name, title):\n",
    "    # requests.somefunc(...)\n",
    "    path = '/json'\n",
    "    return {\"Server\": \"Test Server\"}\n",
    "\n",
    "    # your code goes here"
   ]
  },
  {
   "cell_type": "markdown",
   "metadata": {},
   "source": [
    "---\n",
    "## Solution"
   ]
  },
  {
   "cell_type": "code",
   "execution_count": 5,
   "metadata": {},
   "outputs": [],
   "source": [
    "def get_response_http_client(name, title):\n",
    "    query = urlencode({'name': name, 'title': title})\n",
    "    qlen = len(query)    \n",
    "    headers = {'Content-Type': 'application/x-www-form-urlencoded',\n",
    "               'Content-Length': qlen}\n",
    "    conn = http.client.HTTPConnection('localhost', port=2552)\n",
    "    conn.request(\"PUT\", \"/json\", headers=headers, body=query)\n",
    "    resp = conn.getresponse()\n",
    "    return json.loads(resp.read().decode())"
   ]
  },
  {
   "cell_type": "code",
   "execution_count": 6,
   "metadata": {},
   "outputs": [],
   "source": [
    "def get_response_urllib(name, title):\n",
    "    url = 'http://localhost:2552/json'\n",
    "    args = dict(name=name, title=title)\n",
    "    data = urlencode(args).encode()\n",
    "    req = urllib.request.Request(url, data=data, method='POST')\n",
    "    with urllib.request.urlopen(req) as resp:\n",
    "        return json.loads(resp.read().decode())"
   ]
  },
  {
   "cell_type": "code",
   "execution_count": 7,
   "metadata": {},
   "outputs": [],
   "source": [
    "def get_response_requests(name, title):\n",
    "    resp = requests.put('http://localhost:2552/json', \n",
    "                        data=dict(name=name, title=title),\n",
    "                        headers={})\n",
    "    return json.loads(resp.text)"
   ]
  },
  {
   "cell_type": "markdown",
   "metadata": {},
   "source": [
    "![orange-divider](https://user-images.githubusercontent.com/7065401/92672455-187a5f80-f2ef-11ea-890c-40be9474f7b7.png)\n",
    "## Test Cases\n",
    "\n",
    "Check your solution by running the following test cases:"
   ]
  },
  {
   "cell_type": "code",
   "execution_count": 8,
   "metadata": {},
   "outputs": [],
   "source": [
    "from itertools import product\n",
    "\n",
    "answers = [\n",
    "    {'Server': '9b5cd93e', 'name': 'Alice', 'title': 'Doctor'},\n",
    "    {'Server': '19ca4792', 'name': 'Alice', 'title': 'Lawyer'},\n",
    "    {'Server': '02ee2159', 'name': 'Alice', 'title': 'Baker'},\n",
    "    {'Server': 'c008bfa7', 'name': 'Bob', 'title': 'Doctor'},\n",
    "    {'Server': 'bc249b9f', 'name': 'Bob', 'title': 'Lawyer'},\n",
    "    {'Server': '6ce5faf4', 'name': 'Bob', 'title': 'Baker'},\n",
    "    {'Server': 'd9a5babe', 'name': 'Charlie', 'title': 'Doctor'},\n",
    "    {'Server': '709d2d4d', 'name': 'Charlie', 'title': 'Lawyer'},\n",
    "    {'Server': 'e6a5106b', 'name': 'Charlie', 'title': 'Baker'},\n",
    "]"
   ]
  },
  {
   "cell_type": "code",
   "execution_count": 9,
   "metadata": {},
   "outputs": [
    {
     "name": "stderr",
     "output_type": "stream",
     "text": [
      "127.0.0.1 - - [22/Jun/2021 17:54:46] \"\u001b[37mPUT /json HTTP/1.1\u001b[0m\" 200 -\n",
      "127.0.0.1 - - [22/Jun/2021 17:54:46] \"\u001b[37mPUT /json HTTP/1.1\u001b[0m\" 200 -\n",
      "127.0.0.1 - - [22/Jun/2021 17:54:46] \"\u001b[37mPUT /json HTTP/1.1\u001b[0m\" 200 -\n",
      "127.0.0.1 - - [22/Jun/2021 17:54:46] \"\u001b[37mPUT /json HTTP/1.1\u001b[0m\" 200 -\n",
      "127.0.0.1 - - [22/Jun/2021 17:54:46] \"\u001b[37mPUT /json HTTP/1.1\u001b[0m\" 200 -\n",
      "127.0.0.1 - - [22/Jun/2021 17:54:46] \"\u001b[37mPUT /json HTTP/1.1\u001b[0m\" 200 -\n",
      "127.0.0.1 - - [22/Jun/2021 17:54:46] \"\u001b[37mPUT /json HTTP/1.1\u001b[0m\" 200 -\n",
      "127.0.0.1 - - [22/Jun/2021 17:54:46] \"\u001b[37mPUT /json HTTP/1.1\u001b[0m\" 200 -\n",
      "127.0.0.1 - - [22/Jun/2021 17:54:46] \"\u001b[37mPUT /json HTTP/1.1\u001b[0m\" 200 -\n"
     ]
    },
    {
     "name": "stdout",
     "output_type": "stream",
     "text": [
      "Your solution is ok!\n"
     ]
    }
   ],
   "source": [
    "def test_responses_http_client():\n",
    "    names = ['Alice', 'Bob', 'Charlie']\n",
    "    titles = ['Doctor', 'Lawyer', 'Baker']\n",
    "    for i, (name, title) in enumerate(product(names, titles)):\n",
    "        maybe = get_response_http_client(name, title)\n",
    "        correct = answers[i]\n",
    "        assert maybe == correct, f'{maybe} / {correct}'\n",
    "    print(\"Your solution is ok!\")\n",
    "\n",
    "    \n",
    "test_responses_http_client()"
   ]
  },
  {
   "cell_type": "code",
   "execution_count": 10,
   "metadata": {},
   "outputs": [
    {
     "name": "stderr",
     "output_type": "stream",
     "text": [
      "127.0.0.1 - - [22/Jun/2021 17:54:46] \"\u001b[37mPOST /json HTTP/1.1\u001b[0m\" 200 -\n",
      "127.0.0.1 - - [22/Jun/2021 17:54:46] \"\u001b[37mPOST /json HTTP/1.1\u001b[0m\" 200 -\n",
      "127.0.0.1 - - [22/Jun/2021 17:54:46] \"\u001b[37mPOST /json HTTP/1.1\u001b[0m\" 200 -\n",
      "127.0.0.1 - - [22/Jun/2021 17:54:46] \"\u001b[37mPOST /json HTTP/1.1\u001b[0m\" 200 -\n",
      "127.0.0.1 - - [22/Jun/2021 17:54:46] \"\u001b[37mPOST /json HTTP/1.1\u001b[0m\" 200 -\n",
      "127.0.0.1 - - [22/Jun/2021 17:54:46] \"\u001b[37mPOST /json HTTP/1.1\u001b[0m\" 200 -\n",
      "127.0.0.1 - - [22/Jun/2021 17:54:46] \"\u001b[37mPOST /json HTTP/1.1\u001b[0m\" 200 -\n",
      "127.0.0.1 - - [22/Jun/2021 17:54:46] \"\u001b[37mPOST /json HTTP/1.1\u001b[0m\" 200 -\n",
      "127.0.0.1 - - [22/Jun/2021 17:54:46] \"\u001b[37mPOST /json HTTP/1.1\u001b[0m\" 200 -\n"
     ]
    },
    {
     "name": "stdout",
     "output_type": "stream",
     "text": [
      "Your solution is ok!\n"
     ]
    }
   ],
   "source": [
    "def test_responses_urllib():\n",
    "    names = ['Alice', 'Bob', 'Charlie']\n",
    "    titles = ['Doctor', 'Lawyer', 'Baker']\n",
    "    for i, (name, title) in enumerate(product(names, titles)):\n",
    "        maybe = get_response_urllib(name, title)\n",
    "        correct = answers[i]\n",
    "        assert maybe == correct, f'{maybe} / {correct}'\n",
    "    print(\"Your solution is ok!\")\n",
    "\n",
    "test_responses_urllib()"
   ]
  },
  {
   "cell_type": "code",
   "execution_count": 11,
   "metadata": {},
   "outputs": [
    {
     "name": "stderr",
     "output_type": "stream",
     "text": [
      "127.0.0.1 - - [22/Jun/2021 17:54:46] \"\u001b[37mPUT /json HTTP/1.1\u001b[0m\" 200 -\n",
      "127.0.0.1 - - [22/Jun/2021 17:54:46] \"\u001b[37mPUT /json HTTP/1.1\u001b[0m\" 200 -\n",
      "127.0.0.1 - - [22/Jun/2021 17:54:46] \"\u001b[37mPUT /json HTTP/1.1\u001b[0m\" 200 -\n",
      "127.0.0.1 - - [22/Jun/2021 17:54:46] \"\u001b[37mPUT /json HTTP/1.1\u001b[0m\" 200 -\n",
      "127.0.0.1 - - [22/Jun/2021 17:54:46] \"\u001b[37mPUT /json HTTP/1.1\u001b[0m\" 200 -\n",
      "127.0.0.1 - - [22/Jun/2021 17:54:46] \"\u001b[37mPUT /json HTTP/1.1\u001b[0m\" 200 -\n",
      "127.0.0.1 - - [22/Jun/2021 17:54:46] \"\u001b[37mPUT /json HTTP/1.1\u001b[0m\" 200 -\n",
      "127.0.0.1 - - [22/Jun/2021 17:54:46] \"\u001b[37mPUT /json HTTP/1.1\u001b[0m\" 200 -\n",
      "127.0.0.1 - - [22/Jun/2021 17:54:46] \"\u001b[37mPUT /json HTTP/1.1\u001b[0m\" 200 -\n"
     ]
    },
    {
     "name": "stdout",
     "output_type": "stream",
     "text": [
      "Your solution is ok!\n"
     ]
    }
   ],
   "source": [
    "def test_responses_requests():\n",
    "    names = ['Alice', 'Bob', 'Charlie']\n",
    "    titles = ['Doctor', 'Lawyer', 'Baker']\n",
    "    for i, (name, title) in enumerate(product(names, titles)):\n",
    "        maybe = get_response_requests(name, title)\n",
    "        correct = answers[i]\n",
    "        assert maybe == correct, f'{maybe} / {correct}'\n",
    "    print(\"Your solution is ok!\")\n",
    "    \n",
    "test_responses_requests()"
   ]
  },
  {
   "cell_type": "markdown",
   "metadata": {},
   "source": [
    "![orange-divider](https://user-images.githubusercontent.com/7065401/92672455-187a5f80-f2ef-11ea-890c-40be9474f7b7.png)\n"
   ]
  }
 ],
 "metadata": {
  "kernelspec": {
   "display_name": "Python 3",
   "language": "python",
   "name": "python3"
  },
  "language_info": {
   "codemirror_mode": {
    "name": "ipython",
    "version": 3
   },
   "file_extension": ".py",
   "mimetype": "text/x-python",
   "name": "python",
   "nbconvert_exporter": "python",
   "pygments_lexer": "ipython3",
   "version": "3.8.6"
  }
 },
 "nbformat": 4,
 "nbformat_minor": 5
}
